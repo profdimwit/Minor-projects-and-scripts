{
 "cells": [
  {
   "cell_type": "code",
   "execution_count": 263,
   "id": "f68ee7c9",
   "metadata": {},
   "outputs": [],
   "source": [
    "import pandas as pd\n",
    "import re\n",
    "import numpy as np"
   ]
  },
  {
   "cell_type": "code",
   "execution_count": 265,
   "id": "7b490836",
   "metadata": {},
   "outputs": [],
   "source": [
    "with open('C:.txt', \n",
    "           'r') as file:\n",
    "    rawdata = file.readlines()"
   ]
  },
  {
   "cell_type": "code",
   "execution_count": 258,
   "id": "1eda3017",
   "metadata": {},
   "outputs": [],
   "source": [
    "df = pd.DataFrame()\n",
    "chunks = [[]]"
   ]
  },
  {
   "cell_type": "code",
   "execution_count": 259,
   "id": "fe4d9037",
   "metadata": {},
   "outputs": [],
   "source": [
    "# Separating raw data into chunks with info on single model\n",
    "def divide_chunks(rawdata):\n",
    "    for line in rawdata:\n",
    "        if line == 'Algorithm: Quine-McCluskey\\n':\n",
    "            chunks.append([])\n",
    "        else:\n",
    "            chunks[-1].append(line)\n",
    "    return chunks[1:]\n",
    "\n",
    "chunks = divide_chunks(rawdata)"
   ]
  },
  {
   "cell_type": "code",
   "execution_count": 260,
   "id": "2d5542c5",
   "metadata": {},
   "outputs": [],
   "source": [
    "d = {}\n",
    "models = []\n",
    "\n",
    "# Iterating over chunks to find needed data\n",
    "for ichunk, chunk in enumerate(chunks):\n",
    "    \n",
    "    # Initializing loadings list\n",
    "    loadings = []\n",
    "    \n",
    "    # Extracting loadings and model names separately\n",
    "    for line in chunk:\n",
    "        loading = re.findall('(~*\\S+)\\s+([0-9.]+)\\s+([0-9.]+)\\s+([0-9.]+)', line)\n",
    "        model = re.findall('\\-+\\s+(\\S+\\sSOLUTION)\\s\\-+', line)\n",
    "        \n",
    "        # Collecing loadings of models\n",
    "        if loading:\n",
    "            loadings.append(loading)\n",
    "        \n",
    "        # Collecting model names\n",
    "        if model:\n",
    "            models.append(model)\n",
    "    \n",
    "    d[ichunk] = pd.DataFrame(loadings)\n",
    "    d[ichunk] = pd.DataFrame(d[ichunk][0].tolist(), columns = ['model', 'raw', 'unique', 'consistency'])"
   ]
  },
  {
   "cell_type": "code",
   "execution_count": 261,
   "id": "7cafeefe",
   "metadata": {},
   "outputs": [],
   "source": [
    "# Meking the model list flat\n",
    "models = [model for models_list in models for model in models_list]\n",
    "\n",
    "# Changing the dict keys to model names\n",
    "results = dict(zip(models, d.values()))"
   ]
  },
  {
   "cell_type": "code",
   "execution_count": 262,
   "id": "15e56994",
   "metadata": {},
   "outputs": [
    {
     "data": {
      "text/plain": [
       "{'COMPLEX SOLUTION':                                 model       raw     unique consistency\n",
       " 0         Cempl*~Cprof*Cabi*Cmot*Copp  0.451346  0.0925763    0.913226\n",
       " 1         ~Cprof*Cresp*Cabi*Cmot*Copp  0.346939  0.0369713    0.883283\n",
       " 2  Cempl*Cprof*~Cresp*Cabi*~Cmot*Copp  0.316475  0.0511684    0.942731\n",
       " 3  ~Cempl*Cprof*~Cresp*Cabi*Cmot*Copp  0.345756  0.0650695    0.988166,\n",
       " 'PARSIMONIOUS SOLUTION':     model       raw     unique consistency\n",
       " 0  ~Cresp  0.672582  0.0999703    0.830837\n",
       " 1    Cmot   0.76782   0.195208    0.853106,\n",
       " 'INTERMEDIATE SOLUTION':                                 model       raw     unique consistency\n",
       " 0         Cempl*~Cprof*Cabi*Cmot*Copp  0.451346  0.0925763    0.913226\n",
       " 1         ~Cprof*Cresp*Cabi*Cmot*Copp  0.346939  0.0369713    0.883283\n",
       " 2  Cempl*Cprof*~Cresp*Cabi*~Cmot*Copp  0.316475  0.0511684    0.942731\n",
       " 3  ~Cempl*Cprof*~Cresp*Cabi*Cmot*Copp  0.345756  0.0650695    0.988166}"
      ]
     },
     "execution_count": 262,
     "metadata": {},
     "output_type": "execute_result"
    }
   ],
   "source": [
    "results"
   ]
  },
  {
   "cell_type": "code",
   "execution_count": null,
   "id": "774d19eb",
   "metadata": {},
   "outputs": [],
   "source": []
  }
 ],
 "metadata": {
  "kernelspec": {
   "display_name": "Python 3",
   "language": "python",
   "name": "python3"
  },
  "language_info": {
   "codemirror_mode": {
    "name": "ipython",
    "version": 3
   },
   "file_extension": ".py",
   "mimetype": "text/x-python",
   "name": "python",
   "nbconvert_exporter": "python",
   "pygments_lexer": "ipython3",
   "version": "3.8.8"
  }
 },
 "nbformat": 4,
 "nbformat_minor": 5
}
